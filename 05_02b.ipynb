{
 "cells": [
  {
   "cell_type": "code",
   "execution_count": 1,
   "id": "a5cb4030",
   "metadata": {
    "scrolled": true
   },
   "outputs": [
    {
     "name": "stdout",
     "output_type": "stream",
     "text": [
      "[\n",
      "  {\n",
      "    \"Category\": \"SCIENCE\",\n",
      "    \"Question\": \"This organ removes excess glucose from the blood & stores it as glycogen\",\n",
      "    \"Answer\": \"Liver\"\n",
      "  },\n",
      "  {\n",
      "    \"Category\": \"ANIMALS\",\n",
      "    \"Question\": \"It's the only living mammal in the order Proboseidea\",\n",
      "    \"Answer\": \"Elephant\"\n",
      "  },\n",
      "  {\n",
      "    \"Category\": \"ANIMALS\",\n",
      "    \"Question\": \"The gavial looks very much like a crocodile except for this bodily feature\",\n",
      "    \"Answer\": \"the nose or snout\"\n",
      "  },\n",
      "  {\n",
      "    \"Category\": \"ANIMALS\",\n",
      "    \"Question\": \"Weighing around a ton, the eland is the largest species of this animal in Africa\",\n",
      "    \"Answer\": \"Antelope\"\n",
      "  },\n",
      "  {\n",
      "    \"Category\": \"ANIMALS\",\n",
      "    \"Question\": \"Heaviest of all poisonous snakes is this North American rattlesnake\",\n",
      "    \"Answer\": \"the diamondback rattler\"\n",
      "  },\n",
      "  {\n",
      "    \"Category\": \"SCIENCE\",\n",
      "    \"Question\": \"2000 news: the Gunnison sage grouse isn't just another northern sage grouse, but a new one of this classification\",\n",
      "    \"Answer\": \"species\"\n",
      "  },\n",
      "  {\n",
      "    \"Category\": \"SCIENCE\",\n",
      "    \"Question\": \"A metal that is ductile can be pulled into this while cold & under pressure\",\n",
      "    \"Answer\": \"wire\"\n",
      "  },\n",
      "  {\n",
      "    \"Category\": \"SCIENCE\",\n",
      "    \"Question\": \"In 1953 Watson & Crick built a model of the molecular structure of this, the gene-carrying substance\",\n",
      "    \"Answer\": \"DNA\"\n",
      "  },\n",
      "  {\n",
      "    \"Category\": \"SCIENCE\",\n",
      "    \"Question\": \"Changes in the tropospheric layer of this are what gives us weather\",\n",
      "    \"Answer\": \"the atmosphere\"\n",
      "  },\n",
      "  {\n",
      "    \"Category\": \"SCIENCE\",\n",
      "    \"Question\": \"In 70-degree air, a plane traveling at about 1,130 feet per second breaks it\",\n",
      "    \"Answer\": \"Sound barrier\"\n",
      "  }\n",
      "]\n"
     ]
    }
   ],
   "source": [
    "import requests\n",
    "import json\n",
    "\n",
    "# Download the data\n",
    "resp = requests.get('https://raw.githubusercontent.com/weaviate-tutorials/quickstart/main/data/jeopardy_tiny.json')\n",
    "data = json.loads(resp.text)  # Load data\n",
    "    \n",
    "def json_print(data):\n",
    "    print(json.dumps(data, indent=2))\n",
    "    \n",
    "json_print(data)"
   ]
  },
  {
   "cell_type": "code",
   "execution_count": 2,
   "id": "4772747f",
   "metadata": {},
   "outputs": [
    {
     "name": "stderr",
     "output_type": "stream",
     "text": [
      "C:\\Users\\chhab\\dev\\introduction-to-ai-native-vector-databases-4470531\\vector\\Lib\\site-packages\\weaviate\\__init__.py:136: DeprecationWarning: Dep010: Importing EmbeddedOptions from weaviate is deprecated. Import EmbeddedOptions from its module: weaviate.embedded\n",
      "  _Warnings.root_module_import(name, map_[name])\n"
     ]
    },
    {
     "name": "stdout",
     "output_type": "stream",
     "text": [
      "Weaviate is live!\n"
     ]
    }
   ],
   "source": [
    "import weaviate\n",
    "from weaviate import EmbeddedOptions\n",
    "import os\n",
    "\n",
    "client = weaviate.connect_to_local(host=\"localhost\", port=8080, grpc_port=50051, skip_init_checks=True)\n",
    "\n",
    "# Check that Weaviate is up and live\n",
    "if client.is_live():\n",
    "    print(\"Weaviate is live!\")\n",
    "else:\n",
    "    print(\"Weaviate is not reachable.\")"
   ]
  },
  {
   "cell_type": "code",
   "execution_count": 4,
   "id": "9729c065",
   "metadata": {},
   "outputs": [],
   "source": [
    "if client.collections.exists(\"Question\"):\n",
    "    client.collections.delete(\"Question\")"
   ]
  },
  {
   "cell_type": "code",
   "execution_count": 5,
   "id": "3d510e69",
   "metadata": {},
   "outputs": [
    {
     "data": {
      "text/plain": [
       "<weaviate.collections.collection.sync.Collection at 0x25a04e39400>"
      ]
     },
     "execution_count": 5,
     "metadata": {},
     "output_type": "execute_result"
    }
   ],
   "source": [
    "from weaviate.classes.config import Configure, Property, DataType, VectorDistances\n",
    "\n",
    "# Define the collection name and properties\n",
    "collection_name = \"Question\"\n",
    "\n",
    "# Define properties with correct field names\n",
    "properties = [\n",
    "    Property(name=\"question\", data_type=DataType.TEXT),\n",
    "    Property(name=\"answer\", data_type=DataType.TEXT),\n",
    "    Property(name=\"category\", data_type=DataType.TEXT)\n",
    "]\n",
    "\n",
    "# Create the collection with properly configured vectorizer and vector index\n",
    "client.collections.create(\n",
    "    name=collection_name,\n",
    "    properties=properties,\n",
    "    vectorizer_config=Configure.Vectorizer.text2vec_transformers(),\n",
    "    vector_index_config=Configure.VectorIndex.hnsw(\n",
    "        distance_metric=VectorDistances.COSINE\n",
    "    )\n",
    ")\n"
   ]
  },
  {
   "cell_type": "code",
   "execution_count": 6,
   "id": "afefa538",
   "metadata": {},
   "outputs": [
    {
     "name": "stdout",
     "output_type": "stream",
     "text": [
      "True\n"
     ]
    }
   ],
   "source": [
    "#Insert the data into Weaviate\n",
    "collection = client.collections.get(\"Question\")\n",
    "print(client.is_live())\n",
    "with client.batch.dynamic() as batch:\n",
    "    for o in data:\n",
    "        obj_body = {\n",
    "            'question': o[\"Question\"],\n",
    "            'answer': o[\"Answer\"],\n",
    "            'round': o[\"Category\"]\n",
    "        }\n",
    "        collection.data.insert(properties=obj_body)\n",
    "        "
   ]
  },
  {
   "cell_type": "code",
   "execution_count": 7,
   "id": "71171f89",
   "metadata": {},
   "outputs": [
    {
     "name": "stdout",
     "output_type": "stream",
     "text": [
      "10\n"
     ]
    }
   ],
   "source": [
    "response = collection.aggregate.over_all(total_count=True)\n",
    "print(response.total_count)"
   ]
  },
  {
   "cell_type": "markdown",
   "id": "3e364cb8",
   "metadata": {},
   "source": [
    "### Lets perform vector search for the concept of \"animal\""
   ]
  },
  {
   "cell_type": "code",
   "execution_count": null,
   "id": "8c9bf07e",
   "metadata": {},
   "outputs": [],
   "source": []
  },
  {
   "cell_type": "markdown",
   "id": "702f763a",
   "metadata": {},
   "source": [
    "### Now, lets perform keyword search"
   ]
  },
  {
   "cell_type": "code",
   "execution_count": 10,
   "id": "9b4f3028",
   "metadata": {},
   "outputs": [
    {
     "name": "stdout",
     "output_type": "stream",
     "text": [
      "{'round': 'ANIMALS', 'answer': 'Elephant', 'question': \"It's the only living mammal in the order Proboseidea\", 'category': None}\n",
      "0.42083919048309326\n",
      "{'question': 'Weighing around a ton, the eland is the largest species of this animal in Africa', 'answer': 'Antelope', 'round': 'ANIMALS', 'category': None}\n",
      "0.5061103105545044\n",
      "{'round': 'ANIMALS', 'answer': 'the nose or snout', 'question': 'The gavial looks very much like a crocodile except for this bodily feature', 'category': None}\n",
      "0.5605587959289551\n"
     ]
    }
   ],
   "source": [
    "from weaviate.classes.query import MetadataQuery, Filter\n",
    "response = collection.query.near_text(query=\"animal\", limit=3, return_metadata=MetadataQuery(distance=True))\n",
    "\n",
    "for o in response.objects:\n",
    "    print(o.properties)\n",
    "    print(o.metadata.distance)\n",
    "    \n",
    "# print(json.dumps(response, indent=2))"
   ]
  },
  {
   "cell_type": "markdown",
   "id": "89ef7205",
   "metadata": {},
   "source": [
    "### Why do we only get one match here? We know there are more animal related objects!"
   ]
  },
  {
   "cell_type": "markdown",
   "id": "8d5e5552",
   "metadata": {},
   "source": [
    "### Lets combine keyword and vector search - called hybrid search!"
   ]
  },
  {
   "cell_type": "code",
   "execution_count": 11,
   "id": "4b41e606",
   "metadata": {
    "scrolled": true
   },
   "outputs": [
    {
     "name": "stdout",
     "output_type": "stream",
     "text": [
      "{'question': 'Weighing around a ton, the eland is the largest species of this animal in Africa', 'answer': 'Antelope', 'round': 'ANIMALS', 'category': None}\n",
      "None\n"
     ]
    }
   ],
   "source": [
    "from weaviate.classes.query import MetadataQuery, Filter\n",
    "response = collection.query.bm25(query=\"animal\", limit=3, return_metadata=MetadataQuery(distance=True))\n",
    "\n",
    "for o in response.objects:\n",
    "    print(o.properties)\n",
    "    print(o.metadata.distance)\n",
    "    \n",
    "# print(json.dumps(response, indent=2))"
   ]
  },
  {
   "cell_type": "code",
   "execution_count": 12,
   "id": "b327cdb3",
   "metadata": {},
   "outputs": [
    {
     "name": "stdout",
     "output_type": "stream",
     "text": [
      "{'question': 'Weighing around a ton, the eland is the largest species of this animal in Africa', 'answer': 'Antelope', 'round': 'ANIMALS', 'category': None}\n",
      "None\n",
      "{'round': 'ANIMALS', 'answer': 'Elephant', 'question': \"It's the only living mammal in the order Proboseidea\", 'category': None}\n",
      "None\n",
      "{'question': 'The gavial looks very much like a crocodile except for this bodily feature', 'answer': 'the nose or snout', 'round': 'ANIMALS', 'category': None}\n",
      "None\n"
     ]
    }
   ],
   "source": [
    "from weaviate.classes.query import MetadataQuery, Filter\n",
    "response = collection.query.hybrid(query=\"animal\", limit=3, return_metadata=MetadataQuery(distance=True))\n",
    "\n",
    "for o in response.objects:\n",
    "    print(o.properties)\n",
    "    print(o.metadata.distance)\n",
    "    \n",
    "# print(json.dumps(response, indent=2))"
   ]
  },
  {
   "cell_type": "markdown",
   "id": "90cddb8c",
   "metadata": {},
   "source": [
    "### Notice the order of the returned results!"
   ]
  }
 ],
 "metadata": {
  "kernelspec": {
   "display_name": "Python 3 (ipykernel)",
   "language": "python",
   "name": "python3"
  },
  "language_info": {
   "codemirror_mode": {
    "name": "ipython",
    "version": 3
   },
   "file_extension": ".py",
   "mimetype": "text/x-python",
   "name": "python",
   "nbconvert_exporter": "python",
   "pygments_lexer": "ipython3",
   "version": "3.13.2"
  }
 },
 "nbformat": 4,
 "nbformat_minor": 5
}
